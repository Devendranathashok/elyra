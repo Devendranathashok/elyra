{
 "cells": [
  {
   "cell_type": "code",
   "execution_count": 3,
   "id": "30f667db-5d2b-4166-b691-e09aa3f57c00",
   "metadata": {
    "tags": []
   },
   "outputs": [
    {
     "name": "stdout",
     "output_type": "stream",
     "text": [
      "\u001b[K100%\n",
      "CSV file 'test.csv' generated\n"
     ]
    }
   ],
   "source": [
    "from data.generation import generate_synthetic_dataset\n",
    "\n",
    "generate_synthetic_dataset(num_features=6, num_samples=10_000, file_path=\"test.csv\", num_informative_features=4)"
   ]
  },
  {
   "cell_type": "code",
   "execution_count": 1,
   "id": "2cf9ad87-199a-43b5-898d-499d089a5c59",
   "metadata": {
    "tags": []
   },
   "outputs": [],
   "source": [
    "import pandas as pd\n",
    "\n",
    "from sklearn.naive_bayes import GaussianNB\n",
    "from sklearn.model_selection import train_test_split\n",
    "from sklearn.metrics import classification_report\n",
    "\n",
    "data = pd.read_csv(\"test.csv\")\n",
    "X = data.drop('target', axis=1)\n",
    "y = data['target']\n",
    "\n",
    "# Generate train and test splits\n",
    "X_train, X_test, y_train, y_test = train_test_split(\n",
    "    X,\n",
    "    y,\n",
    "    test_size=0.2,\n",
    "    random_state=0\n",
    ")"
   ]
  },
  {
   "cell_type": "code",
   "execution_count": 5,
   "id": "7aa466c4-122c-48e3-8f2f-b79c49430e9c",
   "metadata": {
    "tags": []
   },
   "outputs": [
    {
     "name": "stdout",
     "output_type": "stream",
     "text": [
      "Classification report:\n",
      "              precision    recall  f1-score   support\n",
      "\n",
      "           0       0.70      0.85      0.77      1003\n",
      "           1       0.81      0.63      0.71       997\n",
      "\n",
      "    accuracy                           0.74      2000\n",
      "   macro avg       0.76      0.74      0.74      2000\n",
      "weighted avg       0.76      0.74      0.74      2000\n",
      "\n"
     ]
    }
   ],
   "source": [
    "model = GaussianNB()\n",
    "model.fit(X_train, y_train)\n",
    "y_predicted = model.predict(X_test)\n",
    "\n",
    "print(\"Classification report:\")\n",
    "print(classification_report(y_test, y_predicted))"
   ]
  },
  {
   "cell_type": "code",
   "execution_count": 2,
   "id": "9960b8f7-e505-474f-8172-a034ab43b104",
   "metadata": {
    "tags": []
   },
   "outputs": [],
   "source": [
    "from itertools import combinations\n",
    "\n",
    "def preprocess(df):\n",
    "    variations = [df]\n",
    "    for i in range(5000):\n",
    "        variations.append(df.copy() * i)\n",
    "\n",
    "    df_extended = pd.concat(variations, axis=1)\n",
    "    return df_extended"
   ]
  },
  {
   "cell_type": "code",
   "execution_count": null,
   "id": "34404409-874e-4009-a22c-240fb131c300",
   "metadata": {
    "tags": []
   },
   "outputs": [],
   "source": [
    "X_preprocessed = preprocess(X_train)\n",
    "\n",
    "model = GaussianNB()\n",
    "model.fit(X_preprocessed, y_train)"
   ]
  },
  {
   "cell_type": "code",
   "execution_count": 3,
   "id": "58880926-4601-4657-9f41-29260cd6cb1a",
   "metadata": {
    "tags": []
   },
   "outputs": [
    {
     "name": "stdout",
     "output_type": "stream",
     "text": [
      "preprocessing done\n",
      "preprocessing done\n",
      "preprocessing done\n",
      "preprocessing done\n",
      "preprocessing done\n",
      "preprocessing done\n",
      "preprocessing done\n",
      "preprocessing done\n",
      "preprocessing done\n",
      "preprocessing done\n",
      "Classification report:\n",
      "              precision    recall  f1-score   support\n",
      "\n",
      "           0       0.70      0.84      0.76      1003\n",
      "           1       0.80      0.63      0.71       997\n",
      "\n",
      "    accuracy                           0.74      2000\n",
      "   macro avg       0.75      0.74      0.73      2000\n",
      "weighted avg       0.75      0.74      0.73      2000\n",
      "\n"
     ]
    }
   ],
   "source": [
    "import numpy as np\n",
    "import pandas as pd\n",
    "from sklearn.naive_bayes import GaussianNB\n",
    "from sklearn.model_selection import train_test_split\n",
    "from sklearn.metrics import classification_report\n",
    "\n",
    "model = GaussianNB()\n",
    "\n",
    "for minibatch in pd.read_csv(\"test.csv\", chunksize=1000):\n",
    "    X = minibatch.drop('target', axis=1)\n",
    "    y = minibatch['target']\n",
    "    X_processed = preprocess(X)\n",
    "    print(\"preprocessing done\")\n",
    "    model.partial_fit(X_processed, y, classes=y.unique())\n",
    "\n",
    "y_predicted = model.predict(preprocess(X_test))\n",
    "\n",
    "print(\"Classification report:\")\n",
    "print(classification_report(y_test, y_predicted))"
   ]
  },
  {
   "cell_type": "code",
   "execution_count": null,
   "id": "248a6e2d-1fe0-4c03-8fca-702fad484769",
   "metadata": {},
   "outputs": [],
   "source": []
  }
 ],
 "metadata": {
  "kernelspec": {
   "display_name": "Python 3.9",
   "language": "python",
   "name": "python3"
  },
  "language_info": {
   "codemirror_mode": {
    "name": "ipython",
    "version": 3
   },
   "file_extension": ".py",
   "mimetype": "text/x-python",
   "name": "python",
   "nbconvert_exporter": "python",
   "pygments_lexer": "ipython3",
   "version": "3.9.16"
  }
 },
 "nbformat": 4,
 "nbformat_minor": 5
}
